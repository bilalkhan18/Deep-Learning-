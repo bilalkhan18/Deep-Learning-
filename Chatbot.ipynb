{
  "nbformat": 4,
  "nbformat_minor": 0,
  "metadata": {
    "colab": {
      "provenance": [],
      "authorship_tag": "ABX9TyMYTiHy8Qfq+mcL7jDUKPmg",
      "include_colab_link": true
    },
    "kernelspec": {
      "name": "python3",
      "display_name": "Python 3"
    },
    "language_info": {
      "name": "python"
    }
  },
  "cells": [
    {
      "cell_type": "markdown",
      "metadata": {
        "id": "view-in-github",
        "colab_type": "text"
      },
      "source": [
        "<a href=\"https://colab.research.google.com/github/bilalkhan18/Deep-Learning-/blob/main/Chatbot.ipynb\" target=\"_parent\"><img src=\"https://colab.research.google.com/assets/colab-badge.svg\" alt=\"Open In Colab\"/></a>"
      ]
    },
    {
      "cell_type": "code",
      "execution_count": 1,
      "metadata": {
        "id": "tBkItBNDh4tl"
      },
      "outputs": [],
      "source": [
        "import tensorflow as tf\n",
        "import numpy as np"
      ]
    },
    {
      "cell_type": "code",
      "source": [
        "# Define the questions and answers\n",
        "questions = [\"hi\",\"what is your name?\",\"bye\"]\n",
        "answers = [\"Hello\",\"My name is Chatbot.\",\"Good bye\"]"
      ],
      "metadata": {
        "id": "JW4wRLOgh599"
      },
      "execution_count": 2,
      "outputs": []
    },
    {
      "cell_type": "code",
      "source": [
        "# Define a vocabulary and mapping from words to indices\n",
        "l=(\" \".join(questions)).split()\n",
        "vocab={j:i for i,j in enumerate(l)}\n",
        "print(vocab)"
      ],
      "metadata": {
        "colab": {
          "base_uri": "https://localhost:8080/"
        },
        "id": "wk1ZIFeGh8r_",
        "outputId": "0fb11a82-f989-4b7d-d9d8-a492c658faad"
      },
      "execution_count": 3,
      "outputs": [
        {
          "output_type": "stream",
          "name": "stdout",
          "text": [
            "{'hi': 0, 'what': 1, 'is': 2, 'your': 3, 'name?': 4, 'bye': 5}\n"
          ]
        }
      ]
    },
    {
      "cell_type": "code",
      "source": [
        "# Convert the questions and answers to numerical form\n",
        "X = np.zeros((len(questions), len(vocab)), dtype=np.float32)\n",
        "Y = np.zeros((len(answers), len(answers)), dtype=np.float32)\n",
        "for i, question in enumerate(questions):\n",
        "    for word in question.lower().split():\n",
        "        if word in vocab:\n",
        "            X[i, vocab[word]] = 1.0\n",
        "    Y[i, i] = 1.0\n",
        "print(X)\n",
        "print(Y)"
      ],
      "metadata": {
        "colab": {
          "base_uri": "https://localhost:8080/"
        },
        "id": "aD6-h9eKiAYI",
        "outputId": "68b5e022-f332-49d6-8793-1ce2d6b06fc4"
      },
      "execution_count": 4,
      "outputs": [
        {
          "output_type": "stream",
          "name": "stdout",
          "text": [
            "[[1. 0. 0. 0. 0. 0.]\n",
            " [0. 1. 1. 1. 1. 0.]\n",
            " [0. 0. 0. 0. 0. 1.]]\n",
            "[[1. 0. 0.]\n",
            " [0. 1. 0.]\n",
            " [0. 0. 1.]]\n"
          ]
        }
      ]
    },
    {
      "cell_type": "code",
      "source": [
        "# Define the neural network model\n",
        "model = tf.keras.Sequential([\n",
        "    tf.keras.layers.Dense(64, activation='relu', input_shape=(len(vocab),)),\n",
        "    tf.keras.layers.Dense(64, activation='relu'),\n",
        "    tf.keras.layers.Dense(len(answers), activation='softmax')\n",
        "])\n",
        "model.compile(optimizer='adam', loss='categorical_crossentropy', metrics=['accuracy'])"
      ],
      "metadata": {
        "id": "BfUVSWHmiJ9C"
      },
      "execution_count": 5,
      "outputs": []
    },
    {
      "cell_type": "code",
      "source": [
        "# Train the model on the questions and answers\n",
        "model.fit(X, Y, epochs=10)"
      ],
      "metadata": {
        "colab": {
          "base_uri": "https://localhost:8080/"
        },
        "id": "L52HuX1ZiL3Y",
        "outputId": "0a8438ca-24c3-49ab-f3df-90646795594e"
      },
      "execution_count": 6,
      "outputs": [
        {
          "output_type": "stream",
          "name": "stdout",
          "text": [
            "Epoch 1/10\n",
            "1/1 [==============================] - 2s 2s/step - loss: 1.2089 - accuracy: 0.0000e+00\n",
            "Epoch 2/10\n",
            "1/1 [==============================] - 0s 15ms/step - loss: 1.1769 - accuracy: 0.0000e+00\n",
            "Epoch 3/10\n",
            "1/1 [==============================] - 0s 13ms/step - loss: 1.1465 - accuracy: 0.0000e+00\n",
            "Epoch 4/10\n",
            "1/1 [==============================] - 0s 16ms/step - loss: 1.1185 - accuracy: 0.0000e+00\n",
            "Epoch 5/10\n",
            "1/1 [==============================] - 0s 20ms/step - loss: 1.0933 - accuracy: 0.3333\n",
            "Epoch 6/10\n",
            "1/1 [==============================] - 0s 15ms/step - loss: 1.0688 - accuracy: 0.3333\n",
            "Epoch 7/10\n",
            "1/1 [==============================] - 0s 18ms/step - loss: 1.0449 - accuracy: 0.3333\n",
            "Epoch 8/10\n",
            "1/1 [==============================] - 0s 12ms/step - loss: 1.0218 - accuracy: 0.3333\n",
            "Epoch 9/10\n",
            "1/1 [==============================] - 0s 14ms/step - loss: 0.9992 - accuracy: 0.3333\n",
            "Epoch 10/10\n",
            "1/1 [==============================] - 0s 14ms/step - loss: 0.9769 - accuracy: 1.0000\n"
          ]
        },
        {
          "output_type": "execute_result",
          "data": {
            "text/plain": [
              "<keras.callbacks.History at 0x7fc1002d9840>"
            ]
          },
          "metadata": {},
          "execution_count": 6
        }
      ]
    },
    {
      "cell_type": "code",
      "source": [
        "# Define a function to generate a response from the model\n",
        "def generate_response(input_text):\n",
        "    x = np.zeros((1, len(vocab)), dtype=np.float32)\n",
        "    for word in input_text.lower().split():\n",
        "        if word in vocab:\n",
        "            x[0, vocab[word]] = 1.0\n",
        "    y = model.predict(x)[0]\n",
        "    index = np.argmax(y)\n",
        "    print(index)\n",
        "    return answers[index]"
      ],
      "metadata": {
        "id": "RTswbS_PiN8c"
      },
      "execution_count": 7,
      "outputs": []
    },
    {
      "cell_type": "code",
      "source": [
        "# Ask for user input and generate a response\n",
        "while True:\n",
        "    user_input = input(\"You: \")\n",
        "    if user_input.lower() == \"exit\":\n",
        "        break\n",
        "    response = generate_response(user_input)\n",
        "    print(\"Chatbot:\", response)"
      ],
      "metadata": {
        "colab": {
          "base_uri": "https://localhost:8080/"
        },
        "id": "n0Mh95JniRje",
        "outputId": "c119988d-d8da-4bee-b1f0-cb8a83e75f1c"
      },
      "execution_count": 8,
      "outputs": [
        {
          "name": "stdout",
          "output_type": "stream",
          "text": [
            "You: Hello\n",
            "1/1 [==============================] - 0s 87ms/step\n",
            "0\n",
            "Chatbot: Hello\n",
            "You: What is your name\n",
            "1/1 [==============================] - 0s 20ms/step\n",
            "1\n",
            "Chatbot: My name is Chatbot.\n",
            "You: Bye\n",
            "1/1 [==============================] - 0s 23ms/step\n",
            "2\n",
            "Chatbot: Good bye\n",
            "You: sdasdvdw\n",
            "1/1 [==============================] - 0s 22ms/step\n",
            "0\n",
            "Chatbot: Hello\n",
            "You: rgergqrhthrwjyuj6teyyrhrwht\n",
            "1/1 [==============================] - 0s 23ms/step\n",
            "0\n",
            "Chatbot: Hello\n",
            "You: exit\n"
          ]
        }
      ]
    },
    {
      "cell_type": "code",
      "source": [],
      "metadata": {
        "id": "54iFnI8QiTQM"
      },
      "execution_count": null,
      "outputs": []
    }
  ]
}