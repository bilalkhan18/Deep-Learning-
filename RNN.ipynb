{
  "nbformat": 4,
  "nbformat_minor": 0,
  "metadata": {
    "colab": {
      "provenance": [],
      "authorship_tag": "ABX9TyMiKsD6Gts6VgiU0YDE5vQn",
      "include_colab_link": true
    },
    "kernelspec": {
      "name": "python3",
      "display_name": "Python 3"
    },
    "language_info": {
      "name": "python"
    }
  },
  "cells": [
    {
      "cell_type": "markdown",
      "metadata": {
        "id": "view-in-github",
        "colab_type": "text"
      },
      "source": [
        "<a href=\"https://colab.research.google.com/github/bilalkhan18/Deep-Learning-/blob/main/RNN.ipynb\" target=\"_parent\"><img src=\"https://colab.research.google.com/assets/colab-badge.svg\" alt=\"Open In Colab\"/></a>"
      ]
    },
    {
      "cell_type": "code",
      "execution_count": 3,
      "metadata": {
        "id": "QIUvNT7bPxpK"
      },
      "outputs": [],
      "source": [
        "import numpy as np\n",
        "from sklearn.metrics import accuracy_score\n",
        "from keras.datasets import reuters\n",
        "#from keras.preprocessing.sequence import pad_sequences\n",
        "from tensorflow.keras.preprocessing.sequence import pad_sequences\n",
        "from tensorflow.keras.utils import to_categorical\n",
        "from keras.models import Sequential\n",
        "from keras.layers import Dense, SimpleRNN, Activation\n",
        "from keras import optimizers\n",
        "from keras.wrappers.scikit_learn import KerasClassifier\n"
      ]
    },
    {
      "cell_type": "code",
      "source": [
        "num_words = 30000\n",
        "maxlen = 50\n",
        "test_split = 0.3\n",
        "\n"
      ],
      "metadata": {
        "id": "tjOMp6ykP1iP"
      },
      "execution_count": 4,
      "outputs": []
    },
    {
      "cell_type": "code",
      "source": [
        "(X_train, y_train), (X_test, y_test) = reuters.load_data(num_words = num_words, maxlen = maxlen, test_split = test_split)"
      ],
      "metadata": {
        "colab": {
          "base_uri": "https://localhost:8080/"
        },
        "id": "nziK_mTaQh5j",
        "outputId": "4578668c-15b4-4219-ce48-1d2a9aa5fdcd"
      },
      "execution_count": 5,
      "outputs": [
        {
          "output_type": "stream",
          "name": "stdout",
          "text": [
            "Downloading data from https://storage.googleapis.com/tensorflow/tf-keras-datasets/reuters.npz\n",
            "2110848/2110848 [==============================] - 0s 0us/step\n"
          ]
        }
      ]
    },
    {
      "cell_type": "code",
      "source": [
        "word_index=reuters.get_word_index()\n",
        "word_index['money']\n",
        "\n",
        "index_to_word={}\n",
        "for key,value in word_index.items():\n",
        "  index_to_word[value]=key\n",
        "\n",
        "index_to_word[4]\n"
      ],
      "metadata": {
        "colab": {
          "base_uri": "https://localhost:8080/",
          "height": 70
        },
        "id": "fThZCu6sQoow",
        "outputId": "6a63dc45-550b-4b13-9d3f-eff4b5f4b6ff"
      },
      "execution_count": 6,
      "outputs": [
        {
          "output_type": "stream",
          "name": "stdout",
          "text": [
            "Downloading data from https://storage.googleapis.com/tensorflow/tf-keras-datasets/reuters_word_index.json\n",
            "550378/550378 [==============================] - 0s 0us/step\n"
          ]
        },
        {
          "output_type": "execute_result",
          "data": {
            "text/plain": [
              "'in'"
            ],
            "application/vnd.google.colaboratory.intrinsic+json": {
              "type": "string"
            }
          },
          "metadata": {},
          "execution_count": 6
        }
      ]
    },
    {
      "cell_type": "code",
      "source": [
        "word_index['money']"
      ],
      "metadata": {
        "colab": {
          "base_uri": "https://localhost:8080/"
        },
        "id": "aVDdUxKvQu8-",
        "outputId": "bfe0981e-2faf-4a19-a93d-acc03b3d4715"
      },
      "execution_count": 8,
      "outputs": [
        {
          "output_type": "execute_result",
          "data": {
            "text/plain": [
              "236"
            ]
          },
          "metadata": {},
          "execution_count": 8
        }
      ]
    },
    {
      "cell_type": "code",
      "source": [
        "index_to_word[236]"
      ],
      "metadata": {
        "colab": {
          "base_uri": "https://localhost:8080/",
          "height": 36
        },
        "id": "9Q6aPHv0Qzh5",
        "outputId": "1288cb89-07c7-4e97-f5fe-9d601fa461e5"
      },
      "execution_count": 9,
      "outputs": [
        {
          "output_type": "execute_result",
          "data": {
            "text/plain": [
              "'money'"
            ],
            "application/vnd.google.colaboratory.intrinsic+json": {
              "type": "string"
            }
          },
          "metadata": {},
          "execution_count": 9
        }
      ]
    },
    {
      "cell_type": "code",
      "source": [
        "X_train = pad_sequences(X_train, padding = 'post')\n",
        "X_test = pad_sequences(X_test, padding = 'post')\n",
        "\n",
        "\n"
      ],
      "metadata": {
        "id": "kQ8QJspWQ1q7"
      },
      "execution_count": 10,
      "outputs": []
    },
    {
      "cell_type": "code",
      "source": [
        "X_train.shape"
      ],
      "metadata": {
        "colab": {
          "base_uri": "https://localhost:8080/"
        },
        "id": "NOX4z7WpQ_nK",
        "outputId": "9b942ab9-d5d6-4806-ec49-3ebb102e1c66"
      },
      "execution_count": 11,
      "outputs": [
        {
          "output_type": "execute_result",
          "data": {
            "text/plain": [
              "(1395, 49)"
            ]
          },
          "metadata": {},
          "execution_count": 11
        }
      ]
    },
    {
      "cell_type": "code",
      "source": [
        "y_train.shape"
      ],
      "metadata": {
        "colab": {
          "base_uri": "https://localhost:8080/"
        },
        "id": "EIcqiHWyRDIR",
        "outputId": "e7f6c87c-81f0-4e1d-d86c-0a976553836e"
      },
      "execution_count": 12,
      "outputs": [
        {
          "output_type": "execute_result",
          "data": {
            "text/plain": [
              "(1395,)"
            ]
          },
          "metadata": {},
          "execution_count": 12
        }
      ]
    },
    {
      "cell_type": "code",
      "source": [
        "X_train = np.array(X_train).reshape((X_train.shape[0], X_train.shape[1], 1))\n",
        "X_test = np.array(X_test).reshape((X_test.shape[0], X_test.shape[1], 1))\n",
        "y_data = np.concatenate((y_train, y_test))\n",
        "y_data = to_categorical(y_data)\n",
        "y_train = y_data[:1395]\n",
        "y_test = y_data[1395:]\n"
      ],
      "metadata": {
        "id": "Xbj5dcW6RFOK"
      },
      "execution_count": 13,
      "outputs": []
    },
    {
      "cell_type": "code",
      "source": [
        "y_train.shape"
      ],
      "metadata": {
        "colab": {
          "base_uri": "https://localhost:8080/"
        },
        "id": "GoLF-J8-ROV0",
        "outputId": "81e17027-f426-4e5e-ff0c-0ce46fa23fc2"
      },
      "execution_count": 15,
      "outputs": [
        {
          "output_type": "execute_result",
          "data": {
            "text/plain": [
              "(1395, 46)"
            ]
          },
          "metadata": {},
          "execution_count": 15
        }
      ]
    },
    {
      "cell_type": "code",
      "source": [
        "X_train.shape"
      ],
      "metadata": {
        "colab": {
          "base_uri": "https://localhost:8080/"
        },
        "id": "sZ3DOnMkRRul",
        "outputId": "79a9fa62-1efc-4387-9b22-2f5883a9c6b0"
      },
      "execution_count": 17,
      "outputs": [
        {
          "output_type": "execute_result",
          "data": {
            "text/plain": [
              "(1395, 49, 1)"
            ]
          },
          "metadata": {},
          "execution_count": 17
        }
      ]
    },
    {
      "cell_type": "code",
      "source": [
        "def vanilla_rnn():\n",
        "    model = Sequential()\n",
        "    model.add(SimpleRNN(50, input_shape = (49,1), return_sequences = False))\n",
        "    model.add(Dense(46))\n",
        "    model.add(Activation('softmax'))\n",
        "    adam = optimizers.Adam(lr = 0.001)\n",
        "    model.compile(loss = 'categorical_crossentropy', optimizer = adam, metrics = ['accuracy'])\n",
        "    return model\n",
        "\n"
      ],
      "metadata": {
        "id": "aFTZJxt-RUWY"
      },
      "execution_count": 18,
      "outputs": []
    },
    {
      "cell_type": "code",
      "source": [
        "model = KerasClassifier(build_fn = vanilla_rnn, epochs = 200, batch_size = 50, verbose = 1)\n",
        "model.fit(X_train, y_train)\n",
        "y_pred = model.predict(X_test)\n",
        "y_test_ = np.argmax(y_test, axis = 1)\n",
        "print(accuracy_score(y_pred, y_test_))\n"
      ],
      "metadata": {
        "colab": {
          "base_uri": "https://localhost:8080/"
        },
        "id": "Synw9odGRaIm",
        "outputId": "afa80a4a-3b6b-4e48-a3d9-3599587b7746"
      },
      "execution_count": 19,
      "outputs": [
        {
          "output_type": "stream",
          "name": "stderr",
          "text": [
            "<ipython-input-19-04b00fd5d975>:1: DeprecationWarning: KerasClassifier is deprecated, use Sci-Keras (https://github.com/adriangb/scikeras) instead. See https://www.adriangb.com/scikeras/stable/migration.html for help migrating.\n",
            "  model = KerasClassifier(build_fn = vanilla_rnn, epochs = 200, batch_size = 50, verbose = 1)\n",
            "/usr/local/lib/python3.10/dist-packages/keras/optimizers/legacy/adam.py:117: UserWarning: The `lr` argument is deprecated, use `learning_rate` instead.\n",
            "  super().__init__(name, **kwargs)\n"
          ]
        },
        {
          "output_type": "stream",
          "name": "stdout",
          "text": [
            "Epoch 1/200\n",
            "28/28 [==============================] - 2s 12ms/step - loss: 2.8245 - accuracy: 0.5405\n",
            "Epoch 2/200\n",
            "28/28 [==============================] - 0s 12ms/step - loss: 1.4371 - accuracy: 0.6717\n",
            "Epoch 3/200\n",
            "28/28 [==============================] - 0s 11ms/step - loss: 1.2282 - accuracy: 0.7133\n",
            "Epoch 4/200\n",
            "28/28 [==============================] - 0s 11ms/step - loss: 1.1778 - accuracy: 0.7147\n",
            "Epoch 5/200\n",
            "28/28 [==============================] - 0s 12ms/step - loss: 1.1667 - accuracy: 0.7147\n",
            "Epoch 6/200\n",
            "28/28 [==============================] - 0s 11ms/step - loss: 1.1607 - accuracy: 0.7147\n",
            "Epoch 7/200\n",
            "28/28 [==============================] - 0s 11ms/step - loss: 1.1563 - accuracy: 0.7147\n",
            "Epoch 8/200\n",
            "28/28 [==============================] - 1s 18ms/step - loss: 1.1562 - accuracy: 0.7147\n",
            "Epoch 9/200\n",
            "28/28 [==============================] - 1s 20ms/step - loss: 1.1554 - accuracy: 0.7147\n",
            "Epoch 10/200\n",
            "28/28 [==============================] - 1s 19ms/step - loss: 1.1546 - accuracy: 0.7147\n",
            "Epoch 11/200\n",
            "28/28 [==============================] - 1s 19ms/step - loss: 1.1506 - accuracy: 0.7147\n",
            "Epoch 12/200\n",
            "28/28 [==============================] - 1s 20ms/step - loss: 1.1526 - accuracy: 0.7147\n",
            "Epoch 13/200\n",
            "28/28 [==============================] - 1s 19ms/step - loss: 1.1505 - accuracy: 0.7147\n",
            "Epoch 14/200\n",
            "28/28 [==============================] - 0s 12ms/step - loss: 1.1492 - accuracy: 0.7147\n",
            "Epoch 15/200\n",
            "28/28 [==============================] - 0s 12ms/step - loss: 1.1459 - accuracy: 0.7147\n",
            "Epoch 16/200\n",
            "28/28 [==============================] - 0s 12ms/step - loss: 1.1453 - accuracy: 0.7147\n",
            "Epoch 17/200\n",
            "28/28 [==============================] - 0s 12ms/step - loss: 1.1445 - accuracy: 0.7147\n",
            "Epoch 18/200\n",
            "28/28 [==============================] - 0s 11ms/step - loss: 1.1429 - accuracy: 0.7147\n",
            "Epoch 19/200\n",
            "28/28 [==============================] - 0s 11ms/step - loss: 1.1420 - accuracy: 0.7147\n",
            "Epoch 20/200\n",
            "28/28 [==============================] - 0s 12ms/step - loss: 1.1457 - accuracy: 0.7147\n",
            "Epoch 21/200\n",
            "28/28 [==============================] - 0s 12ms/step - loss: 1.1417 - accuracy: 0.7147\n",
            "Epoch 22/200\n",
            "28/28 [==============================] - 0s 11ms/step - loss: 1.1401 - accuracy: 0.7147\n",
            "Epoch 23/200\n",
            "28/28 [==============================] - 0s 12ms/step - loss: 1.1410 - accuracy: 0.7147\n",
            "Epoch 24/200\n",
            "28/28 [==============================] - 0s 12ms/step - loss: 1.1389 - accuracy: 0.7147\n",
            "Epoch 25/200\n",
            "28/28 [==============================] - 0s 11ms/step - loss: 1.1374 - accuracy: 0.7147\n",
            "Epoch 26/200\n",
            "28/28 [==============================] - 0s 11ms/step - loss: 1.1374 - accuracy: 0.7147\n",
            "Epoch 27/200\n",
            "28/28 [==============================] - 0s 11ms/step - loss: 1.1403 - accuracy: 0.7140\n",
            "Epoch 28/200\n",
            "28/28 [==============================] - 0s 11ms/step - loss: 1.1369 - accuracy: 0.7154\n",
            "Epoch 29/200\n",
            "28/28 [==============================] - 0s 11ms/step - loss: 1.1345 - accuracy: 0.7168\n",
            "Epoch 30/200\n",
            "28/28 [==============================] - 0s 12ms/step - loss: 1.1333 - accuracy: 0.7176\n",
            "Epoch 31/200\n",
            "28/28 [==============================] - 0s 11ms/step - loss: 1.1355 - accuracy: 0.7183\n",
            "Epoch 32/200\n",
            "28/28 [==============================] - 0s 11ms/step - loss: 1.1313 - accuracy: 0.7176\n",
            "Epoch 33/200\n",
            "28/28 [==============================] - 0s 12ms/step - loss: 1.1308 - accuracy: 0.7168\n",
            "Epoch 34/200\n",
            "28/28 [==============================] - 0s 11ms/step - loss: 1.1352 - accuracy: 0.7197\n",
            "Epoch 35/200\n",
            "28/28 [==============================] - 0s 11ms/step - loss: 1.1302 - accuracy: 0.7168\n",
            "Epoch 36/200\n",
            "28/28 [==============================] - 0s 12ms/step - loss: 1.1281 - accuracy: 0.7204\n",
            "Epoch 37/200\n",
            "28/28 [==============================] - 0s 11ms/step - loss: 1.1295 - accuracy: 0.7176\n",
            "Epoch 38/200\n",
            "28/28 [==============================] - 0s 12ms/step - loss: 1.1296 - accuracy: 0.7183\n",
            "Epoch 39/200\n",
            "28/28 [==============================] - 0s 13ms/step - loss: 1.1287 - accuracy: 0.7197\n",
            "Epoch 40/200\n",
            "28/28 [==============================] - 0s 12ms/step - loss: 1.1282 - accuracy: 0.7161\n",
            "Epoch 41/200\n",
            "28/28 [==============================] - 0s 11ms/step - loss: 1.1297 - accuracy: 0.7168\n",
            "Epoch 42/200\n",
            "28/28 [==============================] - 0s 12ms/step - loss: 1.1272 - accuracy: 0.7183\n",
            "Epoch 43/200\n",
            "28/28 [==============================] - 0s 11ms/step - loss: 1.1233 - accuracy: 0.7197\n",
            "Epoch 44/200\n",
            "28/28 [==============================] - 1s 19ms/step - loss: 1.1227 - accuracy: 0.7183\n",
            "Epoch 45/200\n",
            "28/28 [==============================] - 1s 19ms/step - loss: 1.1271 - accuracy: 0.7183\n",
            "Epoch 46/200\n",
            "28/28 [==============================] - 1s 19ms/step - loss: 1.1254 - accuracy: 0.7168\n",
            "Epoch 47/200\n",
            "28/28 [==============================] - 1s 19ms/step - loss: 1.1222 - accuracy: 0.7204\n",
            "Epoch 48/200\n",
            "28/28 [==============================] - 1s 20ms/step - loss: 1.1199 - accuracy: 0.7211\n",
            "Epoch 49/200\n",
            "28/28 [==============================] - 1s 19ms/step - loss: 1.1243 - accuracy: 0.7211\n",
            "Epoch 50/200\n",
            "28/28 [==============================] - 0s 11ms/step - loss: 1.1198 - accuracy: 0.7219\n",
            "Epoch 51/200\n",
            "28/28 [==============================] - 0s 11ms/step - loss: 1.1175 - accuracy: 0.7211\n",
            "Epoch 52/200\n",
            "28/28 [==============================] - 0s 11ms/step - loss: 1.1180 - accuracy: 0.7204\n",
            "Epoch 53/200\n",
            "28/28 [==============================] - 0s 11ms/step - loss: 1.1179 - accuracy: 0.7211\n",
            "Epoch 54/200\n",
            "28/28 [==============================] - 0s 11ms/step - loss: 1.1156 - accuracy: 0.7226\n",
            "Epoch 55/200\n",
            "28/28 [==============================] - 0s 11ms/step - loss: 1.1165 - accuracy: 0.7204\n",
            "Epoch 56/200\n",
            "28/28 [==============================] - 0s 11ms/step - loss: 1.1103 - accuracy: 0.7226\n",
            "Epoch 57/200\n",
            "28/28 [==============================] - 0s 12ms/step - loss: 1.1110 - accuracy: 0.7219\n",
            "Epoch 58/200\n",
            "28/28 [==============================] - 0s 11ms/step - loss: 1.1093 - accuracy: 0.7219\n",
            "Epoch 59/200\n",
            "28/28 [==============================] - 0s 11ms/step - loss: 1.1026 - accuracy: 0.7211\n",
            "Epoch 60/200\n",
            "28/28 [==============================] - 0s 16ms/step - loss: 1.0894 - accuracy: 0.7204\n",
            "Epoch 61/200\n",
            "28/28 [==============================] - 1s 18ms/step - loss: 1.1111 - accuracy: 0.7204\n",
            "Epoch 62/200\n",
            "28/28 [==============================] - 0s 12ms/step - loss: 1.0973 - accuracy: 0.7183\n",
            "Epoch 63/200\n",
            "28/28 [==============================] - 0s 11ms/step - loss: 1.0587 - accuracy: 0.7233\n",
            "Epoch 64/200\n",
            "28/28 [==============================] - 1s 25ms/step - loss: 1.0362 - accuracy: 0.7147\n",
            "Epoch 65/200\n",
            "28/28 [==============================] - 0s 11ms/step - loss: 1.0674 - accuracy: 0.7211\n",
            "Epoch 66/200\n",
            "28/28 [==============================] - 0s 11ms/step - loss: 1.0357 - accuracy: 0.7254\n",
            "Epoch 67/200\n",
            "28/28 [==============================] - 0s 12ms/step - loss: 1.0068 - accuracy: 0.7226\n",
            "Epoch 68/200\n",
            "28/28 [==============================] - 0s 12ms/step - loss: 1.0204 - accuracy: 0.7233\n",
            "Epoch 69/200\n",
            "28/28 [==============================] - 0s 11ms/step - loss: 1.0292 - accuracy: 0.7283\n",
            "Epoch 70/200\n",
            "28/28 [==============================] - 0s 11ms/step - loss: 1.0362 - accuracy: 0.7269\n",
            "Epoch 71/200\n",
            "28/28 [==============================] - 0s 12ms/step - loss: 1.0064 - accuracy: 0.7247\n",
            "Epoch 72/200\n",
            "28/28 [==============================] - 0s 11ms/step - loss: 1.0075 - accuracy: 0.7204\n",
            "Epoch 73/200\n",
            "28/28 [==============================] - 0s 11ms/step - loss: 1.0023 - accuracy: 0.7247\n",
            "Epoch 74/200\n",
            "28/28 [==============================] - 0s 12ms/step - loss: 0.9852 - accuracy: 0.7254\n",
            "Epoch 75/200\n",
            "28/28 [==============================] - 0s 11ms/step - loss: 1.0151 - accuracy: 0.7204\n",
            "Epoch 76/200\n",
            "28/28 [==============================] - 0s 11ms/step - loss: 0.9866 - accuracy: 0.7262\n",
            "Epoch 77/200\n",
            "28/28 [==============================] - 0s 12ms/step - loss: 0.9810 - accuracy: 0.7247\n",
            "Epoch 78/200\n",
            "28/28 [==============================] - 0s 14ms/step - loss: 0.9911 - accuracy: 0.7197\n",
            "Epoch 79/200\n",
            "28/28 [==============================] - 1s 19ms/step - loss: 0.9786 - accuracy: 0.7161\n",
            "Epoch 80/200\n",
            "28/28 [==============================] - 1s 19ms/step - loss: 0.9873 - accuracy: 0.7283\n",
            "Epoch 81/200\n",
            "28/28 [==============================] - 1s 19ms/step - loss: 0.9847 - accuracy: 0.7262\n",
            "Epoch 82/200\n",
            "28/28 [==============================] - 1s 19ms/step - loss: 0.9806 - accuracy: 0.7269\n",
            "Epoch 83/200\n",
            "28/28 [==============================] - 1s 20ms/step - loss: 0.9743 - accuracy: 0.7262\n",
            "Epoch 84/200\n",
            "28/28 [==============================] - 0s 17ms/step - loss: 0.9655 - accuracy: 0.7269\n",
            "Epoch 85/200\n",
            "28/28 [==============================] - 0s 12ms/step - loss: 0.9577 - accuracy: 0.7269\n",
            "Epoch 86/200\n",
            "28/28 [==============================] - 0s 12ms/step - loss: 0.9687 - accuracy: 0.7297\n",
            "Epoch 87/200\n",
            "28/28 [==============================] - 0s 13ms/step - loss: 0.9826 - accuracy: 0.7247\n",
            "Epoch 88/200\n",
            "28/28 [==============================] - 0s 11ms/step - loss: 0.9734 - accuracy: 0.7276\n",
            "Epoch 89/200\n",
            "28/28 [==============================] - 0s 11ms/step - loss: 0.9756 - accuracy: 0.7211\n",
            "Epoch 90/200\n",
            "28/28 [==============================] - 0s 11ms/step - loss: 0.9627 - accuracy: 0.7276\n",
            "Epoch 91/200\n",
            "28/28 [==============================] - 0s 11ms/step - loss: 0.9580 - accuracy: 0.7226\n",
            "Epoch 92/200\n",
            "28/28 [==============================] - 0s 11ms/step - loss: 0.9522 - accuracy: 0.7262\n",
            "Epoch 93/200\n",
            "28/28 [==============================] - 0s 11ms/step - loss: 0.9529 - accuracy: 0.7326\n",
            "Epoch 94/200\n",
            "28/28 [==============================] - 0s 11ms/step - loss: 0.9400 - accuracy: 0.7355\n",
            "Epoch 95/200\n",
            "28/28 [==============================] - 0s 12ms/step - loss: 0.9554 - accuracy: 0.7348\n",
            "Epoch 96/200\n",
            "28/28 [==============================] - 0s 11ms/step - loss: 0.9446 - accuracy: 0.7341\n",
            "Epoch 97/200\n",
            "28/28 [==============================] - 0s 12ms/step - loss: 0.9341 - accuracy: 0.7305\n",
            "Epoch 98/200\n",
            "28/28 [==============================] - 0s 12ms/step - loss: 0.9309 - accuracy: 0.7226\n",
            "Epoch 99/200\n",
            "28/28 [==============================] - 0s 11ms/step - loss: 0.9296 - accuracy: 0.7283\n",
            "Epoch 100/200\n",
            "28/28 [==============================] - 0s 12ms/step - loss: 0.9475 - accuracy: 0.7369\n",
            "Epoch 101/200\n",
            "28/28 [==============================] - 0s 12ms/step - loss: 0.9307 - accuracy: 0.7362\n",
            "Epoch 102/200\n",
            "28/28 [==============================] - 0s 11ms/step - loss: 0.9385 - accuracy: 0.7319\n",
            "Epoch 103/200\n",
            "28/28 [==============================] - 0s 12ms/step - loss: 0.9251 - accuracy: 0.7312\n",
            "Epoch 104/200\n",
            "28/28 [==============================] - 0s 11ms/step - loss: 0.9197 - accuracy: 0.7348\n",
            "Epoch 105/200\n",
            "28/28 [==============================] - 0s 12ms/step - loss: 0.9176 - accuracy: 0.7233\n",
            "Epoch 106/200\n",
            "28/28 [==============================] - 0s 11ms/step - loss: 0.9280 - accuracy: 0.7341\n",
            "Epoch 107/200\n",
            "28/28 [==============================] - 1s 25ms/step - loss: 0.9228 - accuracy: 0.7333\n",
            "Epoch 108/200\n",
            "28/28 [==============================] - 0s 11ms/step - loss: 0.9195 - accuracy: 0.7276\n",
            "Epoch 109/200\n",
            "28/28 [==============================] - 1s 22ms/step - loss: 0.9123 - accuracy: 0.7419\n",
            "Epoch 110/200\n",
            "28/28 [==============================] - 0s 11ms/step - loss: 0.9107 - accuracy: 0.7362\n",
            "Epoch 111/200\n",
            "28/28 [==============================] - 0s 12ms/step - loss: 0.9036 - accuracy: 0.7348\n",
            "Epoch 112/200\n",
            "28/28 [==============================] - 0s 13ms/step - loss: 0.9231 - accuracy: 0.7305\n",
            "Epoch 113/200\n",
            "28/28 [==============================] - 1s 20ms/step - loss: 0.9114 - accuracy: 0.7305\n",
            "Epoch 114/200\n",
            "28/28 [==============================] - 1s 20ms/step - loss: 0.8949 - accuracy: 0.7326\n",
            "Epoch 115/200\n",
            "28/28 [==============================] - 1s 21ms/step - loss: 0.8936 - accuracy: 0.7362\n",
            "Epoch 116/200\n",
            "28/28 [==============================] - 1s 21ms/step - loss: 0.8981 - accuracy: 0.7384\n",
            "Epoch 117/200\n",
            "28/28 [==============================] - 1s 19ms/step - loss: 0.8923 - accuracy: 0.7419\n",
            "Epoch 118/200\n",
            "28/28 [==============================] - 0s 17ms/step - loss: 0.8903 - accuracy: 0.7355\n",
            "Epoch 119/200\n",
            "28/28 [==============================] - 0s 12ms/step - loss: 0.9165 - accuracy: 0.7290\n",
            "Epoch 120/200\n",
            "28/28 [==============================] - 0s 12ms/step - loss: 0.9325 - accuracy: 0.7326\n",
            "Epoch 121/200\n",
            "28/28 [==============================] - 0s 12ms/step - loss: 0.8956 - accuracy: 0.7362\n",
            "Epoch 122/200\n",
            "28/28 [==============================] - 0s 12ms/step - loss: 0.9032 - accuracy: 0.7369\n",
            "Epoch 123/200\n",
            "28/28 [==============================] - 0s 12ms/step - loss: 0.8881 - accuracy: 0.7470\n",
            "Epoch 124/200\n",
            "28/28 [==============================] - 0s 12ms/step - loss: 0.8836 - accuracy: 0.7369\n",
            "Epoch 125/200\n",
            "28/28 [==============================] - 0s 11ms/step - loss: 0.8828 - accuracy: 0.7434\n",
            "Epoch 126/200\n",
            "28/28 [==============================] - 0s 12ms/step - loss: 0.8822 - accuracy: 0.7434\n",
            "Epoch 127/200\n",
            "28/28 [==============================] - 0s 12ms/step - loss: 0.8845 - accuracy: 0.7398\n",
            "Epoch 128/200\n",
            "28/28 [==============================] - 0s 11ms/step - loss: 0.8764 - accuracy: 0.7434\n",
            "Epoch 129/200\n",
            "28/28 [==============================] - 0s 12ms/step - loss: 0.8837 - accuracy: 0.7427\n",
            "Epoch 130/200\n",
            "28/28 [==============================] - 0s 11ms/step - loss: 0.8712 - accuracy: 0.7448\n",
            "Epoch 131/200\n",
            "28/28 [==============================] - 0s 12ms/step - loss: 0.8653 - accuracy: 0.7462\n",
            "Epoch 132/200\n",
            "28/28 [==============================] - 0s 14ms/step - loss: 0.8584 - accuracy: 0.7484\n",
            "Epoch 133/200\n",
            "28/28 [==============================] - 0s 12ms/step - loss: 0.8561 - accuracy: 0.7441\n",
            "Epoch 134/200\n",
            "28/28 [==============================] - 0s 12ms/step - loss: 0.8515 - accuracy: 0.7484\n",
            "Epoch 135/200\n",
            "28/28 [==============================] - 0s 12ms/step - loss: 0.8535 - accuracy: 0.7470\n",
            "Epoch 136/200\n",
            "28/28 [==============================] - 0s 12ms/step - loss: 0.8513 - accuracy: 0.7470\n",
            "Epoch 137/200\n",
            "28/28 [==============================] - 0s 12ms/step - loss: 0.8429 - accuracy: 0.7477\n",
            "Epoch 138/200\n",
            "28/28 [==============================] - 0s 12ms/step - loss: 0.8378 - accuracy: 0.7491\n",
            "Epoch 139/200\n",
            "28/28 [==============================] - 0s 11ms/step - loss: 0.8431 - accuracy: 0.7484\n",
            "Epoch 140/200\n",
            "28/28 [==============================] - 0s 12ms/step - loss: 0.8358 - accuracy: 0.7419\n",
            "Epoch 141/200\n",
            "28/28 [==============================] - 0s 12ms/step - loss: 0.8344 - accuracy: 0.7491\n",
            "Epoch 142/200\n",
            "28/28 [==============================] - 0s 11ms/step - loss: 0.8294 - accuracy: 0.7427\n",
            "Epoch 143/200\n",
            "28/28 [==============================] - 0s 12ms/step - loss: 0.8300 - accuracy: 0.7520\n",
            "Epoch 144/200\n",
            "28/28 [==============================] - 0s 13ms/step - loss: 0.8287 - accuracy: 0.7484\n",
            "Epoch 145/200\n",
            "28/28 [==============================] - 0s 12ms/step - loss: 0.8284 - accuracy: 0.7505\n",
            "Epoch 146/200\n",
            "28/28 [==============================] - 0s 12ms/step - loss: 0.8229 - accuracy: 0.7534\n",
            "Epoch 147/200\n",
            "28/28 [==============================] - 0s 12ms/step - loss: 0.8439 - accuracy: 0.7505\n",
            "Epoch 148/200\n",
            "28/28 [==============================] - 1s 19ms/step - loss: 0.8405 - accuracy: 0.7477\n",
            "Epoch 149/200\n",
            "28/28 [==============================] - 1s 19ms/step - loss: 0.8246 - accuracy: 0.7505\n",
            "Epoch 150/200\n",
            "28/28 [==============================] - 1s 20ms/step - loss: 0.8191 - accuracy: 0.7534\n",
            "Epoch 151/200\n",
            "28/28 [==============================] - 1s 19ms/step - loss: 0.8192 - accuracy: 0.7513\n",
            "Epoch 152/200\n",
            "28/28 [==============================] - 1s 19ms/step - loss: 0.8519 - accuracy: 0.7462\n",
            "Epoch 153/200\n",
            "28/28 [==============================] - 1s 21ms/step - loss: 0.8832 - accuracy: 0.7355\n",
            "Epoch 154/200\n",
            "28/28 [==============================] - 0s 13ms/step - loss: 0.8400 - accuracy: 0.7505\n",
            "Epoch 155/200\n",
            "28/28 [==============================] - 0s 11ms/step - loss: 0.8567 - accuracy: 0.7441\n",
            "Epoch 156/200\n",
            "28/28 [==============================] - 0s 12ms/step - loss: 0.8312 - accuracy: 0.7419\n",
            "Epoch 157/200\n",
            "28/28 [==============================] - 0s 12ms/step - loss: 0.8235 - accuracy: 0.7520\n",
            "Epoch 158/200\n",
            "28/28 [==============================] - 0s 12ms/step - loss: 0.8120 - accuracy: 0.7520\n",
            "Epoch 159/200\n",
            "28/28 [==============================] - 0s 12ms/step - loss: 0.8113 - accuracy: 0.7513\n",
            "Epoch 160/200\n",
            "28/28 [==============================] - 0s 12ms/step - loss: 0.8171 - accuracy: 0.7541\n",
            "Epoch 161/200\n",
            "28/28 [==============================] - 0s 12ms/step - loss: 0.8087 - accuracy: 0.7541\n",
            "Epoch 162/200\n",
            "28/28 [==============================] - 0s 12ms/step - loss: 0.8055 - accuracy: 0.7534\n",
            "Epoch 163/200\n",
            "28/28 [==============================] - 0s 11ms/step - loss: 0.8045 - accuracy: 0.7534\n",
            "Epoch 164/200\n",
            "28/28 [==============================] - 0s 12ms/step - loss: 0.8475 - accuracy: 0.7441\n",
            "Epoch 165/200\n",
            "28/28 [==============================] - 0s 12ms/step - loss: 0.9022 - accuracy: 0.7419\n",
            "Epoch 166/200\n",
            "28/28 [==============================] - 0s 12ms/step - loss: 0.8786 - accuracy: 0.7405\n",
            "Epoch 167/200\n",
            "28/28 [==============================] - 0s 12ms/step - loss: 0.8321 - accuracy: 0.7527\n",
            "Epoch 168/200\n",
            "28/28 [==============================] - 0s 12ms/step - loss: 0.8191 - accuracy: 0.7534\n",
            "Epoch 169/200\n",
            "28/28 [==============================] - 0s 12ms/step - loss: 0.8796 - accuracy: 0.7427\n",
            "Epoch 170/200\n",
            "28/28 [==============================] - 0s 12ms/step - loss: 0.9195 - accuracy: 0.7333\n",
            "Epoch 171/200\n",
            "28/28 [==============================] - 0s 12ms/step - loss: 0.8526 - accuracy: 0.7419\n",
            "Epoch 172/200\n",
            "28/28 [==============================] - 0s 12ms/step - loss: 0.8497 - accuracy: 0.7484\n",
            "Epoch 173/200\n",
            "28/28 [==============================] - 0s 12ms/step - loss: 0.9029 - accuracy: 0.7269\n",
            "Epoch 174/200\n",
            "28/28 [==============================] - 0s 13ms/step - loss: 0.8533 - accuracy: 0.7419\n",
            "Epoch 175/200\n",
            "28/28 [==============================] - 0s 13ms/step - loss: 0.8267 - accuracy: 0.7376\n",
            "Epoch 176/200\n",
            "28/28 [==============================] - 0s 12ms/step - loss: 0.8234 - accuracy: 0.7405\n",
            "Epoch 177/200\n",
            "28/28 [==============================] - 0s 13ms/step - loss: 0.8335 - accuracy: 0.7355\n",
            "Epoch 178/200\n",
            "28/28 [==============================] - 0s 12ms/step - loss: 0.8330 - accuracy: 0.7427\n",
            "Epoch 179/200\n",
            "28/28 [==============================] - 0s 12ms/step - loss: 0.8260 - accuracy: 0.7441\n",
            "Epoch 180/200\n",
            "28/28 [==============================] - 0s 13ms/step - loss: 0.8117 - accuracy: 0.7462\n",
            "Epoch 181/200\n",
            "28/28 [==============================] - 0s 12ms/step - loss: 0.8115 - accuracy: 0.7462\n",
            "Epoch 182/200\n",
            "28/28 [==============================] - 0s 11ms/step - loss: 0.8091 - accuracy: 0.7477\n",
            "Epoch 183/200\n",
            "28/28 [==============================] - 1s 18ms/step - loss: 0.8061 - accuracy: 0.7441\n",
            "Epoch 184/200\n",
            "28/28 [==============================] - 1s 19ms/step - loss: 0.8041 - accuracy: 0.7441\n",
            "Epoch 185/200\n",
            "28/28 [==============================] - 1s 20ms/step - loss: 0.7983 - accuracy: 0.7505\n",
            "Epoch 186/200\n",
            "28/28 [==============================] - 1s 20ms/step - loss: 0.7981 - accuracy: 0.7470\n",
            "Epoch 187/200\n",
            "28/28 [==============================] - 1s 20ms/step - loss: 0.8068 - accuracy: 0.7462\n",
            "Epoch 188/200\n",
            "28/28 [==============================] - 1s 21ms/step - loss: 0.7958 - accuracy: 0.7534\n",
            "Epoch 189/200\n",
            "28/28 [==============================] - 0s 16ms/step - loss: 0.7888 - accuracy: 0.7498\n",
            "Epoch 190/200\n",
            "28/28 [==============================] - 0s 12ms/step - loss: 0.8160 - accuracy: 0.7455\n",
            "Epoch 191/200\n",
            "28/28 [==============================] - 0s 12ms/step - loss: 0.8116 - accuracy: 0.7441\n",
            "Epoch 192/200\n",
            "28/28 [==============================] - 0s 14ms/step - loss: 0.7991 - accuracy: 0.7491\n",
            "Epoch 193/200\n",
            "28/28 [==============================] - 0s 14ms/step - loss: 0.7948 - accuracy: 0.7563\n",
            "Epoch 194/200\n",
            "28/28 [==============================] - 0s 14ms/step - loss: 0.8146 - accuracy: 0.7548\n",
            "Epoch 195/200\n",
            "28/28 [==============================] - 0s 12ms/step - loss: 0.8004 - accuracy: 0.7577\n",
            "Epoch 196/200\n",
            "28/28 [==============================] - 0s 12ms/step - loss: 0.8009 - accuracy: 0.7556\n",
            "Epoch 197/200\n",
            "28/28 [==============================] - 0s 12ms/step - loss: 0.8295 - accuracy: 0.7484\n",
            "Epoch 198/200\n",
            "28/28 [==============================] - 0s 12ms/step - loss: 0.7988 - accuracy: 0.7541\n",
            "Epoch 199/200\n",
            "28/28 [==============================] - 0s 12ms/step - loss: 0.7980 - accuracy: 0.7606\n",
            "Epoch 200/200\n",
            "28/28 [==============================] - 0s 12ms/step - loss: 0.7847 - accuracy: 0.7599\n",
            "19/19 [==============================] - 0s 5ms/step\n",
            "0.7529215358931552\n"
          ]
        }
      ]
    },
    {
      "cell_type": "code",
      "source": [
        "#print(accuracy_score(y_pred,y_test))\n",
        "\n",
        "y_test"
      ],
      "metadata": {
        "colab": {
          "base_uri": "https://localhost:8080/"
        },
        "id": "6b4Ue7LERjDI",
        "outputId": "2cc2cb6f-f762-4fe4-f263-cc7296bb5eb4"
      },
      "execution_count": 23,
      "outputs": [
        {
          "output_type": "execute_result",
          "data": {
            "text/plain": [
              "array([[0., 0., 0., ..., 0., 0., 0.],\n",
              "       [0., 0., 0., ..., 0., 0., 0.],\n",
              "       [0., 0., 0., ..., 0., 0., 0.],\n",
              "       ...,\n",
              "       [0., 0., 0., ..., 0., 0., 0.],\n",
              "       [0., 0., 0., ..., 0., 0., 0.],\n",
              "       [0., 0., 0., ..., 0., 0., 0.]], dtype=float32)"
            ]
          },
          "metadata": {},
          "execution_count": 23
        }
      ]
    },
    {
      "cell_type": "code",
      "source": [
        "y_test_ = np.argmax(y_test, axis = 1)\n",
        "print(accuracy_score(y_pred, y_test_))\n"
      ],
      "metadata": {
        "colab": {
          "base_uri": "https://localhost:8080/"
        },
        "id": "2hA-ky3QSYyv",
        "outputId": "1051dc69-648b-4243-8cab-964d9cded8fe"
      },
      "execution_count": 25,
      "outputs": [
        {
          "output_type": "stream",
          "name": "stdout",
          "text": [
            "0.7529215358931552\n"
          ]
        }
      ]
    }
  ]
}