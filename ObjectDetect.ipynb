{
  "nbformat": 4,
  "nbformat_minor": 0,
  "metadata": {
    "colab": {
      "provenance": [],
      "authorship_tag": "ABX9TyNIwiBTbjJyJ+f++9ZCnAiO",
      "include_colab_link": true
    },
    "kernelspec": {
      "name": "python3",
      "display_name": "Python 3"
    },
    "language_info": {
      "name": "python"
    }
  },
  "cells": [
    {
      "cell_type": "markdown",
      "metadata": {
        "id": "view-in-github",
        "colab_type": "text"
      },
      "source": [
        "<a href=\"https://colab.research.google.com/github/bilalkhan18/Deep-Learning-/blob/main/ObjectDetect.ipynb\" target=\"_parent\"><img src=\"https://colab.research.google.com/assets/colab-badge.svg\" alt=\"Open In Colab\"/></a>"
      ]
    },
    {
      "cell_type": "code",
      "execution_count": null,
      "metadata": {
        "id": "eBBWvDMle50D"
      },
      "outputs": [],
      "source": [
        "import torch\n",
        "import cv2\n",
        "import numpy as np\n",
        "\n",
        "def POINTS(event, x, y, flags, param):\n",
        "    if event == cv2.EVENT_MOUSEMOVE:\n",
        "        colorsBGR = [x, y]\n",
        "        print(colorsBGR)\n",
        "\n",
        "cv2.namedWindow('ROI')\n",
        "cv2.setMouseCallback('ROI', POINTS)\n",
        "\n",
        "image_path = 'imggg.jpg'  # Path to your image file\n",
        "\n",
        "model = torch.hub.load('ultralytics/yolov5', 'yolov5s', pretrained=True)\n",
        "\n",
        "frame = cv2.imread(image_path)\n",
        "frame = cv2.resize(frame, (1020, 500))\n",
        "results = model(frame)\n",
        "\n",
        "for index, row in results.pandas().xyxy[0].iterrows():\n",
        "    x1 = int(row['xmin'])\n",
        "    y1 = int(row['ymin'])\n",
        "    x2 = int(row['xmax'])\n",
        "    y2 = int(row['ymax'])\n",
        "    d = row['name']\n",
        "    print(d)\n",
        "    cv2.rectangle(frame, (x1, y1), (x2, y2), (255, 255, 255), 2)\n",
        "    cv2.putText(frame, d, (x1, y1 + 10), cv2.FONT_HERSHEY_SIMPLEX, 0.5, (0, 0, 255))\n",
        "    \n",
        "cv2.imshow(\"ROI\", frame)\n",
        "cv2.waitKey(0)\n",
        "cv2.destroyAllWindows()"
      ]
    },
    {
      "cell_type": "code",
      "source": [
        "import torch\n",
        "import cv2\n",
        "import numpy as np\n"
      ],
      "metadata": {
        "id": "iuMASDr_haao"
      },
      "execution_count": 1,
      "outputs": []
    },
    {
      "cell_type": "code",
      "source": [],
      "metadata": {
        "id": "7C6BqB5jhcyP"
      },
      "execution_count": null,
      "outputs": []
    },
    {
      "cell_type": "code",
      "source": [],
      "metadata": {
        "id": "JdQ5x2VufMOB"
      },
      "execution_count": null,
      "outputs": []
    },
    {
      "cell_type": "code",
      "source": [],
      "metadata": {
        "id": "1aYVfxczfNK9"
      },
      "execution_count": null,
      "outputs": []
    }
  ]
}